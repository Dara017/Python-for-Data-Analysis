{
 "cells": [
  {
   "cell_type": "markdown",
   "id": "dad6d3c8-cffe-44f5-bed2-eaef41b98c3a",
   "metadata": {},
   "source": [
    "<img src=\"Downloads/py2.png\" width=\"600\" height=\"100\">"
   ]
  },
  {
   "cell_type": "markdown",
   "id": "be8beb83-b0f0-4b87-9e4e-fad26f150013",
   "metadata": {},
   "source": [
    "## **INTRODUCTION TO PYTHON**💻"
   ]
  },
  {
   "cell_type": "markdown",
   "id": "ac5d70d2-b8ce-4145-b1ac-ec69016c4c2d",
   "metadata": {},
   "source": [
    "Python is a programming language created by Guido van Rossum, and released in 1991. It is an open source, general-purpose and a high level programming language.\n",
    "There are two major versions of Python; Python 2 and Python 3. We will be using Python 3 for this course."
   ]
  },
  {
   "cell_type": "markdown",
   "id": "a6d2f163-f067-4f57-a959-199b8270351b",
   "metadata": {},
   "source": [
    "# Features of Python Programming Language<br>\n",
    "- Open source.\n",
    "- General Purpose.\n",
    "- High level programming language.\n",
    "- Simple and easy to learn.\n",
    "- Platform-independent.\n",
    "- It has a large user support community which is why it continually experiences continuous development.\n",
    "- Python files always have an extension “.py”"
   ]
  },
  {
   "cell_type": "markdown",
   "id": "d177f416-4e2a-4f89-a385-baa72c2108af",
   "metadata": {},
   "source": [
    "# Uses of Python \n",
    "- Data Analysis and Machine Learning.\n",
    "- Web Development.\n",
    "- Web Scraping.\n",
    "- Game Development.\n",
    "- Task Automation among others."
   ]
  },
  {
   "cell_type": "markdown",
   "id": "4d8ba8d3-2217-42e7-bb4d-d95536aa50c1",
   "metadata": {},
   "source": [
    "# Text Editor or IDE?<br>\n",
    "Let us establish what these terms mean. **A text editor** is a computer program that enables users to create, change, edit, open and view plain text files. Examples of text editors you can use for Python are Notepad++, Visual Studio Code and Pydroid for Android.<br>\n",
    "**An IDE (Integrated Development Environment)** is a software application that helps programmers develop software code efficiently. Examples of IDEs are Visual Studio Code, PyCharm, Spider and Thonny among many others.<br>\n",
    "Simple text editors are fast to start and easy to manipulate while IDEs tend to start slower and be feature-rich and complex. Simple text editors typically can only edit code, and cannot run the code. A full IDE can edit code, run the code, debug code, provide syntax highlighting and context help. <br>Here is where Jupyter Notebook comes in!<br> In the context of problem-solving, Jupyter notebooks are quite handy. Jupyter notebooks open quickly and quickly produce output. Data exploration, data cleaning, and plot building can be done in Jupyter notebooks easier and quicker than in a text editor or an IDE.\n",
    "Jupyter notebooks are also very useful in sharing resources."
   ]
  },
  {
   "cell_type": "markdown",
   "id": "794559b2-a836-45f2-a533-3bd41cc4e80c",
   "metadata": {},
   "source": [
    "# How to Install Jupyter Notebook<br>\n",
    "- Download Anaconda at www.anaconda.com/download.\n"
   ]
  },
  {
   "cell_type": "markdown",
   "id": "b0b33f21-c7c4-41b1-86c4-8008a96d10c6",
   "metadata": {},
   "source": [
    "<img src=\"Pictures/py5.png\" width=\"600\" height=\"100\">"
   ]
  },
  {
   "cell_type": "markdown",
   "id": "8ea2c721-959c-45f6-9d46-d4a2ba7ed903",
   "metadata": {},
   "source": [
    "- Install the version of Anaconda which you downloaded and follow the instructions on the download page.\n",
    "- Congratulations, you have installed Jupyter Notebook🥳"
   ]
  },
  {
   "cell_type": "markdown",
   "id": "2d5baf02-c0ad-419b-bae8-584fd07005fb",
   "metadata": {},
   "source": [
    "# BASIC PYTHON SYNTAX<br>"
   ]
  },
  {
   "cell_type": "markdown",
   "id": "ccd03a49-15af-403c-95df-b409d71febfa",
   "metadata": {},
   "source": [
    "- Printing an output in Python"
   ]
  },
  {
   "cell_type": "code",
   "execution_count": 1,
   "id": "98dfddb8-1124-4c03-a864-bc086ea106bf",
   "metadata": {},
   "outputs": [
    {
     "name": "stdout",
     "output_type": "stream",
     "text": [
      "Hello World!\n"
     ]
    }
   ],
   "source": [
    "print (\"Hello World!\")"
   ]
  },
  {
   "cell_type": "code",
   "execution_count": 2,
   "id": "1f12d3af-3134-46bb-ac20-0223f1b6752c",
   "metadata": {},
   "outputs": [
    {
     "name": "stdout",
     "output_type": "stream",
     "text": [
      "Welcome to Python!\n"
     ]
    }
   ],
   "source": [
    "print (\"Welcome to Python!\")"
   ]
  },
  {
   "cell_type": "markdown",
   "id": "6ce8eedf-9efe-4065-a945-2dfb4ad25b18",
   "metadata": {},
   "source": [
    "- Use of Indentation"
   ]
  },
  {
   "cell_type": "code",
   "execution_count": 3,
   "id": "deef8066-2abe-4091-8ab5-de449dd8598c",
   "metadata": {},
   "outputs": [
    {
     "name": "stdout",
     "output_type": "stream",
     "text": [
      "Lesser than\n"
     ]
    }
   ],
   "source": [
    "if 3 < 8:\n",
    "    print (\"Lesser than\")"
   ]
  },
  {
   "cell_type": "code",
   "execution_count": 4,
   "id": "49f5ec32-1147-4fff-8017-8f84519b7ba7",
   "metadata": {},
   "outputs": [],
   "source": [
    "#if ..."
   ]
  },
  {
   "cell_type": "markdown",
   "id": "eb63ae41-833a-46e8-9890-38a3936f6f70",
   "metadata": {},
   "source": [
    "- Commenting in Python"
   ]
  },
  {
   "cell_type": "code",
   "execution_count": 5,
   "id": "43effdcf-b184-4a1e-b051-3df9acf4b527",
   "metadata": {},
   "outputs": [
    {
     "name": "stdout",
     "output_type": "stream",
     "text": [
      "Chelsea\n"
     ]
    }
   ],
   "source": [
    "# Hi there, this is a comment\n",
    "print (\"Chelsea\")"
   ]
  },
  {
   "cell_type": "markdown",
   "id": "cdda164f-e03a-491a-bdf3-718360009705",
   "metadata": {},
   "source": [
    "- Case sensitivity"
   ]
  },
  {
   "cell_type": "code",
   "execution_count": 6,
   "id": "78162b24-3152-4889-ad6c-f1abf81b55db",
   "metadata": {},
   "outputs": [
    {
     "name": "stdout",
     "output_type": "stream",
     "text": [
      "19\n"
     ]
    }
   ],
   "source": [
    "aGe = 19\n",
    "print (aGe)"
   ]
  },
  {
   "cell_type": "markdown",
   "id": "1fa55d43-6fe1-4a9f-b236-fdb9190b43a7",
   "metadata": {},
   "source": [
    "# PYTHON VARIABLES<br>\n",
    "- Variables are containers for storing data. \n",
    "- A python variable can only start with either a letter or underscore.\n",
    "- A variable can be as long as 255 characters.\n",
    "- A data is assigned to a variable using the “=“ sign.\n",
    "- A variable can stores different types of data like strings, lists, arrays, tuples, integer , Boolean etc."
   ]
  },
  {
   "cell_type": "code",
   "execution_count": 7,
   "id": "5a92c589-38bd-4e7c-b996-8e0cee7072fb",
   "metadata": {},
   "outputs": [
    {
     "name": "stdout",
     "output_type": "stream",
     "text": [
      "4.35\n"
     ]
    }
   ],
   "source": [
    "grade_1 = 4.35\n",
    "# _grade2 = 4.78\n",
    "# print (_grade2)\n",
    "print(grade_1)"
   ]
  },
  {
   "cell_type": "markdown",
   "id": "2d5cb7ec-69d5-489b-a53e-7ee5a91510aa",
   "metadata": {},
   "source": [
    "# PYTHON OPERATIONS"
   ]
  },
  {
   "cell_type": "markdown",
   "id": "bbbdf329-24a3-4ecb-a867-59d11fb50bb5",
   "metadata": {},
   "source": [
    "| Operators | Operation |\n",
    "| --- | --- |\n",
    "| + | Addition |\n",
    "| - | Subtraction |\n",
    "| * | Multiplication |\n",
    "| / |Division |\n",
    "| ** | Exponential |\n",
    "| % | Modulo |\n",
    "| // | Floor Division |"
   ]
  },
  {
   "cell_type": "code",
   "execution_count": 8,
   "id": "7c09c015-7a81-4010-8929-9ad58226d4a7",
   "metadata": {},
   "outputs": [
    {
     "name": "stdout",
     "output_type": "stream",
     "text": [
      "15386239549\n"
     ]
    }
   ],
   "source": [
    "#Practice Work\n",
    "print( 109 ** 5)"
   ]
  },
  {
   "cell_type": "code",
   "execution_count": 9,
   "id": "e655d460-06af-485c-8f64-695e91c4061f",
   "metadata": {},
   "outputs": [],
   "source": [
    "#Practice Work"
   ]
  },
  {
   "cell_type": "markdown",
   "id": "81ced599-6b37-4d9d-b03f-21803ce67353",
   "metadata": {},
   "source": [
    "# PYTHON EXPRESSIONS <br>"
   ]
  },
  {
   "cell_type": "markdown",
   "id": "1a9cdf79-1ce0-4400-984e-bcd84ec116d7",
   "metadata": {},
   "source": [
    "| Symbols | Expressions |\n",
    "| --- | --- |\n",
    "| > | Greater Than |\n",
    "| < | Lesser Than |\n",
    "| == | Equal To |\n",
    "| >= |Greater Than or Equal To |\n",
    "| <= | Less Than or Equal To|\n",
    "|!= | Not Equal To |\n",
    "| AND | Conjuction |\n",
    "| OR |Disjunction |\n",
    "| NOT | Negation |"
   ]
  },
  {
   "cell_type": "code",
   "execution_count": 10,
   "id": "64cb29f6-f803-4300-a8e2-c3b542e0b010",
   "metadata": {},
   "outputs": [
    {
     "name": "stdout",
     "output_type": "stream",
     "text": [
      "True\n"
     ]
    }
   ],
   "source": [
    "#Practice Work\n",
    "print ((45 > 59) or (34 < 67))"
   ]
  },
  {
   "cell_type": "code",
   "execution_count": 11,
   "id": "a60a5d72-3542-40c4-a590-94b72f45569b",
   "metadata": {},
   "outputs": [],
   "source": [
    "#Practice Work"
   ]
  },
  {
   "cell_type": "markdown",
   "id": "d4a86d99-2333-403a-94da-797c24e3840c",
   "metadata": {},
   "source": [
    "# CONTROL STRUCTURES<br>\n",
    "There are two kinds of control structures in Python namely; Selection and Repetition Structures.<br>\n",
    "- Selection Structures.\n",
    "1) If statement\n",
    "2) If…..else statement\n",
    "3) If….elif…else statement"
   ]
  },
  {
   "cell_type": "code",
   "execution_count": 12,
   "id": "9ef68bd9-56e4-4c85-b57c-a3a2b7b0528d",
   "metadata": {},
   "outputs": [
    {
     "name": "stdout",
     "output_type": "stream",
     "text": [
      "They're the same\n"
     ]
    }
   ],
   "source": [
    "#If Statement\n",
    "if (46 == 46):\n",
    "    print (\"They're the same\")"
   ]
  },
  {
   "cell_type": "code",
   "execution_count": 13,
   "id": "ce66e711-f886-4fec-9a9f-1766f9e7e338",
   "metadata": {},
   "outputs": [
    {
     "name": "stdout",
     "output_type": "stream",
     "text": [
      "Not True\n"
     ]
    }
   ],
   "source": [
    "#If...else Statement\n",
    "if(60 < 56):\n",
    "    print (\"True\")\n",
    "else:\n",
    "    print (\"Not True\")"
   ]
  },
  {
   "cell_type": "code",
   "execution_count": 14,
   "id": "f366a5f1-85f9-438d-96b4-271b4397d5a8",
   "metadata": {},
   "outputs": [
    {
     "name": "stdout",
     "output_type": "stream",
     "text": [
      "You have got an A\n"
     ]
    }
   ],
   "source": [
    "#If...elif...else Statement\n",
    "mark = 95\n",
    "if(mark >= 70):\n",
    "    print (\"You have got an A\")\n",
    "elif(mark >= 60):\n",
    "    print (\"You have got a B\")\n",
    "elif(mark >= 50):\n",
    "    print (\"You have got a C\")\n",
    "elif(mark >= 45):\n",
    "    print (\"You have got a D\")\n",
    "else:\n",
    "    print (\"You failed\")"
   ]
  },
  {
   "cell_type": "markdown",
   "id": "aec3eb22-2b1c-46fd-b634-87e92ece7ce4",
   "metadata": {},
   "source": [
    "- Repetition Structures<br>\n",
    "1) While Statement\n",
    "2) For Statement"
   ]
  },
  {
   "cell_type": "code",
   "execution_count": 15,
   "id": "764c46d0-c383-4414-88ff-1d5721f358f5",
   "metadata": {},
   "outputs": [
    {
     "name": "stdout",
     "output_type": "stream",
     "text": [
      "Counting 3\n",
      "Counting 2\n",
      "Counting 1\n",
      "Stop\n"
     ]
    }
   ],
   "source": [
    "#While Statement\n",
    "number= 3\n",
    "while(number > 0):\n",
    "    print (\"Counting\", number)\n",
    "    number = number - 1\n",
    "else:\n",
    "    print (\"Stop\")"
   ]
  },
  {
   "cell_type": "code",
   "execution_count": 16,
   "id": "56112cd6-30c8-4a9f-b2a8-da9cd5e9a6b3",
   "metadata": {},
   "outputs": [
    {
     "name": "stdout",
     "output_type": "stream",
     "text": [
      "C s\n",
      "S s\n",
      "C s\n",
      "2 s\n",
      "0 s\n",
      "1 s\n"
     ]
    }
   ],
   "source": [
    "#For Statement\n",
    "course = \"CSC201\"\n",
    "for letter in course:\n",
    "    print (letter, \"s\")"
   ]
  },
  {
   "cell_type": "markdown",
   "id": "3dbf3695-b99d-419a-849d-014292832929",
   "metadata": {},
   "source": [
    "- Range"
   ]
  },
  {
   "cell_type": "code",
   "execution_count": 17,
   "id": "9d0c82d3-795f-4f72-a259-a0f25c4a5859",
   "metadata": {},
   "outputs": [
    {
     "name": "stdout",
     "output_type": "stream",
     "text": [
      "2\n",
      "5\n",
      "8\n"
     ]
    }
   ],
   "source": [
    "for num in range(2, 10, 3):\n",
    "    print (num)"
   ]
  },
  {
   "cell_type": "markdown",
   "id": "2dd28704-79ac-4d4a-b563-f3e3457197c4",
   "metadata": {},
   "source": [
    "# DATA TYPES IN PYTHON<br>\n",
    "Data type is a way of classifying the various types of data that can be stored in Python and the type of operation that can be performed on that data. The data types in Python include;<br>\n",
    "- Integers\n",
    "- Floats\n",
    "- Strings\n",
    "- Boolean\n",
    "- Lists\n",
    "- Tuples\n",
    "- Dictionaries\n",
    "- Arrays"
   ]
  },
  {
   "cell_type": "code",
   "execution_count": 18,
   "id": "c8f00fc6-8fb7-4102-8435-f86b807e98d7",
   "metadata": {},
   "outputs": [
    {
     "name": "stdout",
     "output_type": "stream",
     "text": [
      "98\n"
     ]
    }
   ],
   "source": [
    "#Checking Data Types of Integers, Float, Strings and Boolean\n",
    "age = 53\n",
    "age2 = 45\n",
    "print(age + age2)"
   ]
  },
  {
   "cell_type": "code",
   "execution_count": 19,
   "id": "777a31e8-b38d-4ac2-a4c7-e906dd8cdf70",
   "metadata": {},
   "outputs": [
    {
     "name": "stdout",
     "output_type": "stream",
     "text": [
      "data_103data_103\n"
     ]
    }
   ],
   "source": [
    "#Checking Data Types of Integers, Float, Strings and Boolean\n",
    "username = \"data_103\"\n",
    "username2 = \"data_208\"\n",
    "print (username * 2)"
   ]
  },
  {
   "cell_type": "code",
   "execution_count": 20,
   "id": "7637f382-0b68-4b79-9610-aeaad59cc8a6",
   "metadata": {},
   "outputs": [
    {
     "name": "stdout",
     "output_type": "stream",
     "text": [
      "20\n"
     ]
    }
   ],
   "source": [
    "#Lists & Tuples\n",
    "random_numbers = [19, 45, 27, 39, 20]\n",
    "print (random_numbers[4])"
   ]
  },
  {
   "cell_type": "code",
   "execution_count": 21,
   "id": "c8a0b947-99b4-47e5-82b5-2a9d1813faae",
   "metadata": {},
   "outputs": [
    {
     "data": {
      "text/plain": [
       "tuple"
      ]
     },
     "execution_count": 21,
     "metadata": {},
     "output_type": "execute_result"
    }
   ],
   "source": [
    "#Lists & Tuples\n",
    "random_age = (12, 45, 37, 29)\n",
    "type(random_age)"
   ]
  },
  {
   "cell_type": "code",
   "execution_count": 22,
   "id": "8fff9c69-dfea-4d42-8fa2-ff622891d1ab",
   "metadata": {},
   "outputs": [
    {
     "name": "stdout",
     "output_type": "stream",
     "text": [
      "5.4\n"
     ]
    }
   ],
   "source": [
    "# Dictionaries\n",
    "person = {\"name\": \"Tayo\", \"age\": 23, \"height\": 5.4, \"color\": \"Blue\"}\n",
    "print (person[\"height\"])"
   ]
  },
  {
   "cell_type": "code",
   "execution_count": 23,
   "id": "5db77256-b006-409e-b806-d25c031c1e0a",
   "metadata": {},
   "outputs": [
    {
     "name": "stdout",
     "output_type": "stream",
     "text": [
      "[34, 25, 56, 89]\n"
     ]
    }
   ],
   "source": [
    "#Arrays\n",
    "arr = [34, 25, 56, 89]\n",
    "print (arr)"
   ]
  },
  {
   "cell_type": "markdown",
   "id": "1d8e47ad-ebc9-4006-a3b2-a88a57abc623",
   "metadata": {},
   "source": [
    "# FUNCTIONS<br>\n",
    "Python functions are procedures that contain some body of codes to perform a particular task and return a value. Some of its advantages are:\n",
    "- Reusability and elimination of redundancy.\n",
    "- Modularity.\n",
    "- Maintenability.\n",
    "- Readability <br>\n",
    "There are two types of functions in Python; Built-In and User-defined functions."
   ]
  },
  {
   "cell_type": "code",
   "execution_count": 27,
   "id": "5a4481c0-db04-4f68-b444-3f8ca7b283b5",
   "metadata": {},
   "outputs": [
    {
     "data": {
      "text/plain": [
       "89"
      ]
     },
     "execution_count": 27,
     "metadata": {},
     "output_type": "execute_result"
    }
   ],
   "source": [
    "#Built In Functions\n",
    "list = [67, 45, 58, 89]\n",
    "max(list)"
   ]
  },
  {
   "cell_type": "code",
   "execution_count": 29,
   "id": "c69515fd-c838-4069-a66b-5433911c4c6f",
   "metadata": {},
   "outputs": [],
   "source": [
    "# User-defined Functions\n",
    "def greeting(name): \n",
    "    print (\"Hello\", name)"
   ]
  },
  {
   "cell_type": "code",
   "execution_count": 32,
   "id": "57cc5bdd-b64d-4f69-9080-b42d612f7d77",
   "metadata": {},
   "outputs": [
    {
     "name": "stdout",
     "output_type": "stream",
     "text": [
      "Hello Beatrice\n"
     ]
    }
   ],
   "source": [
    "greeting(\"Beatrice\")"
   ]
  },
  {
   "cell_type": "markdown",
   "id": "b1e3be85-a18f-4ae8-a2eb-f87d265f36e5",
   "metadata": {},
   "source": [
    "# ERROR HANDLING<br>\n",
    "Errors are mistakes in code or code execution. There are three types of error namely:<br>\n",
    "- Syntax Error : These are errors that have to do with using the wrong code and usually is a result of typos.\n",
    "- Semantic Errors: It occurs when a series of steps used to perform a task is wrong. The result will be incorrect even though the code apparently runs precisely as it should.\n",
    "- Logical Error: This occurs when the coder’s thinking is faulty. In most cases this happens when the developer uses a logical operator incorrectly.<br>\n",
    "Thankfully, Python allows for handling and prevention of errors. Let's see how👇"
   ]
  },
  {
   "cell_type": "markdown",
   "id": "102b2c87-94af-4aa1-b2e0-73490a84d9a9",
   "metadata": {},
   "source": [
    "- Syntax errors are easily highlighted by Python IDE (in this case, Jupyter Notebook) for correction."
   ]
  },
  {
   "cell_type": "code",
   "execution_count": 39,
   "id": "01c60b50-f9ff-4ce2-a072-6f2675734581",
   "metadata": {},
   "outputs": [],
   "source": [
    "#Practice Work"
   ]
  },
  {
   "cell_type": "markdown",
   "id": "88ab3715-4d8c-41f4-aef7-928abb5e3fc2",
   "metadata": {},
   "source": [
    "- Try and Except<br>\n",
    "Any block of code that might cause error is placed in the “try” block. Python starts by executing the sequence of statements in the try block. If all goes well, it skips the “except” block and proceeds. If an exception occurs in the try block, Python jumps out of the try block and executes the sequence of statements in the except block."
   ]
  },
  {
   "cell_type": "code",
   "execution_count": 34,
   "id": "af62332b-a282-42b6-9eaf-3f3f4ae0220a",
   "metadata": {},
   "outputs": [
    {
     "name": "stdin",
     "output_type": "stream",
     "text": [
      "Enter your age:  20.3\n"
     ]
    },
    {
     "name": "stdout",
     "output_type": "stream",
     "text": [
      "Please enter a valid age\n"
     ]
    }
   ],
   "source": [
    "try:\n",
    "    age = int(input(\"Enter your age: \"))\n",
    "    print (age)\n",
    "except:\n",
    "    print(\"Please enter a valid age\")"
   ]
  },
  {
   "cell_type": "markdown",
   "id": "94fdb892-1b90-445a-b7c7-63c0f6348260",
   "metadata": {},
   "source": [
    "- Raise Statement<br>\n",
    "The raise statement allows the programmer to force an exception to occur. The sole argument to raise indicates the exception to be raised."
   ]
  },
  {
   "cell_type": "code",
   "execution_count": 36,
   "id": "e0e99974-bbaa-4031-8ff7-a7e3178fd2a4",
   "metadata": {},
   "outputs": [
    {
     "name": "stdin",
     "output_type": "stream",
     "text": [
      "Enter your age:  20.3\n"
     ]
    },
    {
     "name": "stdout",
     "output_type": "stream",
     "text": [
      "Please enter a valid age\n"
     ]
    }
   ],
   "source": [
    "try:\n",
    "    age = int(input(\"Enter your age: \"))\n",
    "    print (age)\n",
    "    raise\n",
    "except:\n",
    "    print(\"Please enter a valid age\")"
   ]
  },
  {
   "cell_type": "markdown",
   "id": "02aab031-6cef-4709-8e8e-cb84c27a7835",
   "metadata": {},
   "source": [
    "We have come to the end of today's class. Tomorrow, we'll continue with how you can use Python for Data Analysis."
   ]
  },
  {
   "cell_type": "markdown",
   "id": "7f1f3c2f-b28e-497c-96de-30d497fe7cce",
   "metadata": {},
   "source": [
    "## Take-Home Assigment<br>\n",
    "- Write a Python function for subtraction and addition. It should return the result after being called.\n",
    "- Create a dictionary of five countries and their capitals."
   ]
  },
  {
   "cell_type": "code",
   "execution_count": null,
   "id": "15fd508f-5dc3-4d78-9833-5d905ac3c381",
   "metadata": {},
   "outputs": [],
   "source": []
  }
 ],
 "metadata": {
  "kernelspec": {
   "display_name": "Python 3",
   "language": "python",
   "name": "python3"
  },
  "language_info": {
   "codemirror_mode": {
    "name": "ipython",
    "version": 3
   },
   "file_extension": ".py",
   "mimetype": "text/x-python",
   "name": "python",
   "nbconvert_exporter": "python",
   "pygments_lexer": "ipython3",
   "version": "3.8.8"
  }
 },
 "nbformat": 4,
 "nbformat_minor": 5
}
