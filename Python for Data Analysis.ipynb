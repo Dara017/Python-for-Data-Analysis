{
 "cells": [
  {
   "cell_type": "markdown",
   "id": "6726e83b-c654-4d14-8729-106b12094e11",
   "metadata": {},
   "source": [
    "<img src=\"Downloads/py14.jpg\" width=\"350\" height=\"80\">"
   ]
  },
  {
   "cell_type": "markdown",
   "id": "ebc69ce5-90ae-4f87-b63e-4c679af3da28",
   "metadata": {},
   "source": [
    "## **DATA ANALYSIS: BRIEF INTRODUCTION🥳**<br>"
   ]
  },
  {
   "cell_type": "markdown",
   "id": "340e7acf-5287-4ab6-9213-c5e257cf1e86",
   "metadata": {},
   "source": [
    "In a world centered that is now centered around Technology, huge amounts of data are produced and stored every day. Be it from a purchase you make in a supermarket or your reviews on a movie in Netflix.\n",
    "We're now in a data driven world where a company can increase her growth by leveraging on data, but is it just data?🤔<br>\n",
    "Data has a lot of potentials but the only way to unlock them is **DATA ANALYSIS**.<br>\n",
    "What is Data Analysis?<br>\n",
    "In my own words, data analysis is the process of using some specific tools for collecting, cleaning, exploring and transforming data with the goal of gaining useful information or insights that can be used to influence better decision making. We'll be looking at one of those tools today, Python."
   ]
  },
  {
   "cell_type": "markdown",
   "id": "48e4db83-80aa-4d70-9c0b-9f10e9b2cc39",
   "metadata": {},
   "source": [
    "# Data Analysis Tools<br>\n",
    "- Microsoft Excel.\n",
    "- Structured Query Language.\n",
    "- Power BI.\n",
    "- Tableau.\n",
    "- SAS.\n",
    "- **Python** Programming Language.\n",
    "- R Programming Language."
   ]
  },
  {
   "cell_type": "markdown",
   "id": "5e6b7044-d2cb-4aa9-aa00-0b97ff06e5a9",
   "metadata": {},
   "source": [
    "# Python for Data Analysis\n",
    "Python has libraries like Numpy, Pandas , Matplotlib, Scikit Learn that support data analysis. For this course, we'll be focusing on Numpy, Pandas and MatplotLib.<br>\n",
    "Why do Data Analysts prefer using Python? <br>\n",
    "- Python is easy to use for Data Gathering, Data Processing and Data Visualization.\n",
    "- It's easy to read and has a simple syntax.\n",
    "- Python has a large user community so you don't have to worry when you have problems.\n",
    "- Python has a large range of libraries available for its users.<br>\n",
    "Let's look at those libraries."
   ]
  },
  {
   "cell_type": "markdown",
   "id": "278aaa38-481a-4f83-ba99-cf9dea11638e",
   "metadata": {},
   "source": [
    "## **NUMPY**<br>"
   ]
  },
  {
   "cell_type": "markdown",
   "id": "a0ec42e4-8914-41b2-abbd-75a9030fc136",
   "metadata": {},
   "source": [
    "The NumPy library is the basis of a large amount of mathematical and scientific Python packages. It is specially used for working with arrays becasue unlike Python arrays, they are easier to work with and faster to process. The data type of an array object in NumPy is called ndarray."
   ]
  },
  {
   "cell_type": "markdown",
   "id": "e73c99c1-e9f6-4661-8847-f618e59b8aa7",
   "metadata": {},
   "source": [
    "# Installing NumPy<br>\n",
    "- If you already have Anaconda, you don't have to worry.\n",
    "- If you'll be installing on your system, go to your command prompt, then type \"pip install numpy\"."
   ]
  },
  {
   "cell_type": "markdown",
   "id": "de5ed840-b9be-4d98-8b71-f0d12be41521",
   "metadata": {},
   "source": [
    "# Importing Numpy<br>\n",
    "The NumPy library is imported using the \"import\" statement."
   ]
  },
  {
   "cell_type": "code",
   "execution_count": 1,
   "id": "1772eb2d-5fd5-4f90-9037-7c0f1f8af01e",
   "metadata": {},
   "outputs": [],
   "source": [
    "import numpy as np"
   ]
  },
  {
   "cell_type": "markdown",
   "id": "ad4b02d0-cc25-4124-bd0a-db6e69fdc71e",
   "metadata": {},
   "source": [
    "# Creating Arrays with NumPy<br>\n",
    "We create a Numpy array object using the array() function."
   ]
  },
  {
   "cell_type": "code",
   "execution_count": 2,
   "id": "a1755b14-a548-4862-98a5-843fd3bfbf0f",
   "metadata": {},
   "outputs": [
    {
     "name": "stdout",
     "output_type": "stream",
     "text": [
      "[12 45 67  8  9]\n"
     ]
    }
   ],
   "source": [
    "arr1 = np.array([12, 45, 67, 8, 9])\n",
    "print (arr1)"
   ]
  },
  {
   "cell_type": "code",
   "execution_count": 3,
   "id": "8f946dc2-4e30-4d2e-9e12-391bcfdc8eef",
   "metadata": {},
   "outputs": [
    {
     "name": "stdout",
     "output_type": "stream",
     "text": [
      "<class 'numpy.ndarray'>\n"
     ]
    }
   ],
   "source": [
    "#Checking the type\n",
    "print (type(arr1))"
   ]
  },
  {
   "cell_type": "code",
   "execution_count": 4,
   "id": "e172b3ea-d005-44b3-a131-684f3a0cf27c",
   "metadata": {},
   "outputs": [
    {
     "name": "stdout",
     "output_type": "stream",
     "text": [
      "<class 'numpy.ndarray'>\n"
     ]
    }
   ],
   "source": [
    "#Creating an array from a list\n",
    "list = [15, 16, 37, 10, 27]\n",
    "arr2 = np.array(list)\n",
    "print (type(arr2))"
   ]
  },
  {
   "cell_type": "code",
   "execution_count": 5,
   "id": "5bd09dc0-20d9-4312-abb8-36d90d7165c9",
   "metadata": {},
   "outputs": [
    {
     "name": "stdout",
     "output_type": "stream",
     "text": [
      "[0 1 2 3 4 5]\n"
     ]
    }
   ],
   "source": [
    "#Creating an array using range\n",
    "arr3 = np.arange(6)\n",
    "print(arr3)"
   ]
  },
  {
   "cell_type": "code",
   "execution_count": 6,
   "id": "f1242c2c-d9c5-4a54-87bc-500355330ecf",
   "metadata": {},
   "outputs": [
    {
     "name": "stdout",
     "output_type": "stream",
     "text": [
      "(6,)\n"
     ]
    }
   ],
   "source": [
    "#Checking the size and shape\n",
    "print(arr3.shape)"
   ]
  },
  {
   "cell_type": "code",
   "execution_count": 7,
   "id": "bb1fa4e0-d2b7-4930-8a7d-3e323744a37b",
   "metadata": {},
   "outputs": [
    {
     "name": "stdout",
     "output_type": "stream",
     "text": [
      "1\n"
     ]
    }
   ],
   "source": [
    "#Checking the dimension\n",
    "print(arr2.ndim)"
   ]
  },
  {
   "cell_type": "markdown",
   "id": "1fe12357-6923-409d-8603-9f638fc70ea6",
   "metadata": {},
   "source": [
    "# Basic Operations on an Array<br>\n",
    "- Arithmetic Operations"
   ]
  },
  {
   "cell_type": "code",
   "execution_count": 8,
   "id": "014e4586-c174-466d-86d2-b25815da982c",
   "metadata": {},
   "outputs": [],
   "source": [
    "arr4 = np.array([16, 23, 45, 67, 18])"
   ]
  },
  {
   "cell_type": "code",
   "execution_count": 9,
   "id": "b71f8ed5-f9cd-4dbd-9c4c-efca26e9c7c7",
   "metadata": {},
   "outputs": [
    {
     "name": "stdout",
     "output_type": "stream",
     "text": [
      "[ 4.    5.75 11.25 16.75  4.5 ]\n"
     ]
    }
   ],
   "source": [
    "#Practice Work\n",
    "print (arr4 / 4)"
   ]
  },
  {
   "cell_type": "code",
   "execution_count": 10,
   "id": "8d5243d3-9267-4dc8-885c-154d7dbcc43d",
   "metadata": {},
   "outputs": [],
   "source": [
    "#Practice Work"
   ]
  },
  {
   "cell_type": "markdown",
   "id": "f9c5895a-f9d0-415b-b9e4-a5fac5c22ee7",
   "metadata": {},
   "source": [
    "- Increment Operations"
   ]
  },
  {
   "cell_type": "code",
   "execution_count": 11,
   "id": "67280d09-a406-45ca-9049-581570847fde",
   "metadata": {},
   "outputs": [],
   "source": [
    "arr5 = np.array([1, 3, 5, 7, 9])"
   ]
  },
  {
   "cell_type": "code",
   "execution_count": 57,
   "id": "e7af50c4-d4c1-457b-b4dc-32fa08f0c22b",
   "metadata": {},
   "outputs": [
    {
     "data": {
      "text/plain": [
       "array([ 2,  4,  6,  8, 10])"
      ]
     },
     "execution_count": 57,
     "metadata": {},
     "output_type": "execute_result"
    }
   ],
   "source": [
    "#Practice Work\n",
    "arr5 += 1\n",
    "arr5"
   ]
  },
  {
   "cell_type": "code",
   "execution_count": 59,
   "id": "d03fad0e-2a4b-454c-9bc6-fa74d979f56e",
   "metadata": {},
   "outputs": [
    {
     "data": {
      "text/plain": [
       "array([1, 3, 5, 7, 9])"
      ]
     },
     "execution_count": 59,
     "metadata": {},
     "output_type": "execute_result"
    }
   ],
   "source": [
    "#Practice Work\n",
    "arr5 -= 1\n",
    "arr5"
   ]
  },
  {
   "cell_type": "markdown",
   "id": "573294e9-3edb-4e6a-b9ee-71223d4f1a35",
   "metadata": {},
   "source": [
    "- Aggregate Functions"
   ]
  },
  {
   "cell_type": "code",
   "execution_count": 14,
   "id": "465af29c-0e61-4123-94da-5ba00fb7a575",
   "metadata": {},
   "outputs": [],
   "source": [
    "arr6 = np.array([12, 56, 78, 90, 24])"
   ]
  },
  {
   "cell_type": "code",
   "execution_count": 15,
   "id": "c695243e-6e79-418b-9490-8bb8f7cd58ee",
   "metadata": {},
   "outputs": [
    {
     "name": "stdout",
     "output_type": "stream",
     "text": [
      "52.0\n"
     ]
    }
   ],
   "source": [
    "#Practice Work\n",
    "print (arr6.mean())"
   ]
  },
  {
   "cell_type": "code",
   "execution_count": 16,
   "id": "d9c83527-db45-4a6b-be6d-51cad6b08f1c",
   "metadata": {},
   "outputs": [
    {
     "name": "stdout",
     "output_type": "stream",
     "text": [
      "30.066592756745816\n"
     ]
    }
   ],
   "source": [
    "#Practice Work\n",
    "print (arr6.std())"
   ]
  },
  {
   "cell_type": "markdown",
   "id": "36b461e3-81fd-400d-906d-bcb34fa15519",
   "metadata": {},
   "source": [
    "# Indexing and Slicing of an Array"
   ]
  },
  {
   "cell_type": "code",
   "execution_count": 17,
   "id": "6b91a704-683f-40c6-b290-d7228be5d229",
   "metadata": {},
   "outputs": [],
   "source": [
    "arr7 = np.arange(9)"
   ]
  },
  {
   "cell_type": "code",
   "execution_count": 18,
   "id": "5f07e93b-4d68-411c-8a02-633058745ef7",
   "metadata": {},
   "outputs": [
    {
     "name": "stdout",
     "output_type": "stream",
     "text": [
      "[0 1 2 3 4 5 6 7 8]\n"
     ]
    }
   ],
   "source": [
    "#Indexing Practice Work\n",
    "print (arr7)"
   ]
  },
  {
   "cell_type": "code",
   "execution_count": 19,
   "id": "689ed354-38ad-4840-926e-3f81739fd3de",
   "metadata": {},
   "outputs": [
    {
     "name": "stdout",
     "output_type": "stream",
     "text": [
      "[2 3 4 5]\n"
     ]
    }
   ],
   "source": [
    "#Slicing Practice Work\n",
    "print(arr7[2:6])"
   ]
  },
  {
   "cell_type": "markdown",
   "id": "12ed964a-8243-4e4a-a9a3-236af1976bb4",
   "metadata": {},
   "source": [
    "## **PANDAS**<br>"
   ]
  },
  {
   "cell_type": "markdown",
   "id": "017d55c5-71b1-4a0c-aaee-4fcef6bb67da",
   "metadata": {},
   "source": [
    "Pandas is a Python library used for working with data sets. It has functions for cleaning, exploring, and manipulating data."
   ]
  },
  {
   "cell_type": "markdown",
   "id": "9f9f75f2-ab1e-4f66-b49c-0c7fb2a8a426",
   "metadata": {},
   "source": [
    "# Installing Pandas<br>\n",
    "- If you already have Anaconda, you don't have to worry.\n",
    "- If you'll be installing on your system, go to your command prompt, then type \"pip install pandas\"."
   ]
  },
  {
   "cell_type": "markdown",
   "id": "e2308721-33c2-4f7e-8ebf-d091b7e7c695",
   "metadata": {},
   "source": [
    "# Importing Pandas<br>\n",
    "The Pandas library is imported using the \"import\" statement."
   ]
  },
  {
   "cell_type": "code",
   "execution_count": 20,
   "id": "8f3912b3-0a58-49d5-9f3a-9dc30253508f",
   "metadata": {},
   "outputs": [],
   "source": [
    "import pandas as pd"
   ]
  },
  {
   "cell_type": "markdown",
   "id": "fdc043cf-66da-4a21-ba52-bf931bd1e4a9",
   "metadata": {},
   "source": [
    "# Pandas Data Structures<br>\n",
    "Pandas has just two data structures on which the analysis of data are centralized.\n",
    "- Series\n",
    "- DataFrame"
   ]
  },
  {
   "cell_type": "markdown",
   "id": "3f104c13-4ba5-421a-84c6-cd784526b4fa",
   "metadata": {},
   "source": [
    "# Series<br>\n",
    "The Series is an object of the pandas library designed to represent one-dimensional structures similarly to an array but with some additional features.<br>"
   ]
  },
  {
   "cell_type": "code",
   "execution_count": 21,
   "id": "40945365-3e12-4a52-b3b7-a271e1a559cc",
   "metadata": {},
   "outputs": [
    {
     "name": "stdout",
     "output_type": "stream",
     "text": [
      "0    12\n",
      "1    34\n",
      "2    15\n",
      "3    27\n",
      "4    39\n",
      "dtype: int64\n"
     ]
    }
   ],
   "source": [
    "#Creating a Pandas Series\n",
    "ser = pd.Series([12, 34, 15, 27, 39])\n",
    "print (ser)"
   ]
  },
  {
   "cell_type": "code",
   "execution_count": 22,
   "id": "e7f98869-6831-42ec-b7c0-8af513c99ba1",
   "metadata": {},
   "outputs": [
    {
     "name": "stdout",
     "output_type": "stream",
     "text": [
      "RangeIndex(start=0, stop=5, step=1)\n"
     ]
    }
   ],
   "source": [
    "#Checking the values and index\n",
    "print (ser.index)"
   ]
  },
  {
   "cell_type": "code",
   "execution_count": 23,
   "id": "50e7a884-85ba-4d72-b67a-f1b1c897a49f",
   "metadata": {},
   "outputs": [
    {
     "name": "stdout",
     "output_type": "stream",
     "text": [
      "a    12\n",
      "b    34\n",
      "c    15\n",
      "d    27\n",
      "e    39\n",
      "dtype: int64\n"
     ]
    }
   ],
   "source": [
    "#Creating a Pandas Series 2\n",
    "ser2 = pd.Series([12, 34, 15, 27, 39], index = [\"a\", \"b\", \"c\", \"d\", \"e\"])\n",
    "print (ser2)"
   ]
  },
  {
   "cell_type": "code",
   "execution_count": 24,
   "id": "db3c89fb-d5fa-4d8f-833e-f8c1dc8958c0",
   "metadata": {},
   "outputs": [
    {
     "name": "stdout",
     "output_type": "stream",
     "text": [
      "a    12\n",
      "b    34\n",
      "c    15\n",
      "d    27\n",
      "dtype: int64\n"
     ]
    }
   ],
   "source": [
    "#Practice Indexing and Slicing\n",
    "print(ser2[\"a\" : \"d\"])"
   ]
  },
  {
   "cell_type": "code",
   "execution_count": 25,
   "id": "2ce36eb7-02bf-45ba-8be1-9df3e15d4e5e",
   "metadata": {},
   "outputs": [],
   "source": [
    "#Operations on Series"
   ]
  },
  {
   "cell_type": "markdown",
   "id": "d75e7bda-f51f-4e80-a42a-12f0a676a353",
   "metadata": {},
   "source": [
    "# DataFrame<br>\n",
    "The DataFrame is a tabular data structure very similar to the Excel Spreadsheet. This data structure is designed to extend the case of the series to multiple dimensions. It consists of an ordered collection of columns, each of which contain values."
   ]
  },
  {
   "cell_type": "code",
   "execution_count": 26,
   "id": "832a817d-2243-4325-b4d2-74fe6e1b8fef",
   "metadata": {},
   "outputs": [
    {
     "data": {
      "text/plain": [
       "dict"
      ]
     },
     "execution_count": 26,
     "metadata": {},
     "output_type": "execute_result"
    }
   ],
   "source": [
    "data = {'color': ['black', 'white', 'brown'],\n",
    "        'gender': ['male', 'female','male']}\n",
    "type(data)"
   ]
  },
  {
   "cell_type": "code",
   "execution_count": 27,
   "id": "c0ea7d8e-6697-4949-b5d6-fd9fcfe261b3",
   "metadata": {},
   "outputs": [
    {
     "data": {
      "text/html": [
       "<div>\n",
       "<style scoped>\n",
       "    .dataframe tbody tr th:only-of-type {\n",
       "        vertical-align: middle;\n",
       "    }\n",
       "\n",
       "    .dataframe tbody tr th {\n",
       "        vertical-align: top;\n",
       "    }\n",
       "\n",
       "    .dataframe thead th {\n",
       "        text-align: right;\n",
       "    }\n",
       "</style>\n",
       "<table border=\"1\" class=\"dataframe\">\n",
       "  <thead>\n",
       "    <tr style=\"text-align: right;\">\n",
       "      <th></th>\n",
       "      <th>color</th>\n",
       "      <th>gender</th>\n",
       "    </tr>\n",
       "  </thead>\n",
       "  <tbody>\n",
       "    <tr>\n",
       "      <th>0</th>\n",
       "      <td>black</td>\n",
       "      <td>male</td>\n",
       "    </tr>\n",
       "    <tr>\n",
       "      <th>1</th>\n",
       "      <td>white</td>\n",
       "      <td>female</td>\n",
       "    </tr>\n",
       "    <tr>\n",
       "      <th>2</th>\n",
       "      <td>brown</td>\n",
       "      <td>male</td>\n",
       "    </tr>\n",
       "  </tbody>\n",
       "</table>\n",
       "</div>"
      ],
      "text/plain": [
       "   color  gender\n",
       "0  black    male\n",
       "1  white  female\n",
       "2  brown    male"
      ]
     },
     "execution_count": 27,
     "metadata": {},
     "output_type": "execute_result"
    }
   ],
   "source": [
    "df1 = pd.DataFrame(data)\n",
    "df1"
   ]
  },
  {
   "cell_type": "code",
   "execution_count": 28,
   "id": "4c6fed01-eec1-4f42-9b39-85fd160bdb4c",
   "metadata": {},
   "outputs": [
    {
     "data": {
      "text/html": [
       "<div>\n",
       "<style scoped>\n",
       "    .dataframe tbody tr th:only-of-type {\n",
       "        vertical-align: middle;\n",
       "    }\n",
       "\n",
       "    .dataframe tbody tr th {\n",
       "        vertical-align: top;\n",
       "    }\n",
       "\n",
       "    .dataframe thead th {\n",
       "        text-align: right;\n",
       "    }\n",
       "</style>\n",
       "<table border=\"1\" class=\"dataframe\">\n",
       "  <thead>\n",
       "    <tr style=\"text-align: right;\">\n",
       "      <th></th>\n",
       "      <th>color</th>\n",
       "      <th>gender</th>\n",
       "    </tr>\n",
       "  </thead>\n",
       "  <tbody>\n",
       "    <tr>\n",
       "      <th>i</th>\n",
       "      <td>black</td>\n",
       "      <td>male</td>\n",
       "    </tr>\n",
       "    <tr>\n",
       "      <th>ii</th>\n",
       "      <td>white</td>\n",
       "      <td>female</td>\n",
       "    </tr>\n",
       "    <tr>\n",
       "      <th>iii</th>\n",
       "      <td>brown</td>\n",
       "      <td>male</td>\n",
       "    </tr>\n",
       "  </tbody>\n",
       "</table>\n",
       "</div>"
      ],
      "text/plain": [
       "     color  gender\n",
       "i    black    male\n",
       "ii   white  female\n",
       "iii  brown    male"
      ]
     },
     "execution_count": 28,
     "metadata": {},
     "output_type": "execute_result"
    }
   ],
   "source": [
    "df2 = pd.DataFrame(data, index = [\"i\", \"ii\", \"iii\"])\n",
    "df2"
   ]
  },
  {
   "cell_type": "code",
   "execution_count": 30,
   "id": "ef3d98fc-b32d-4110-abc6-19a2b90b1f1e",
   "metadata": {},
   "outputs": [
    {
     "data": {
      "text/plain": [
       "array([['black', 'male'],\n",
       "       ['white', 'female'],\n",
       "       ['brown', 'male']], dtype=object)"
      ]
     },
     "execution_count": 30,
     "metadata": {},
     "output_type": "execute_result"
    }
   ],
   "source": [
    "#Accessing the columns and index\n",
    "df2.values"
   ]
  },
  {
   "cell_type": "code",
   "execution_count": 29,
   "id": "faeb82b8-d9b0-4e14-b801-d5ada816fb8c",
   "metadata": {},
   "outputs": [
    {
     "data": {
      "text/plain": [
       "Index(['i', 'ii', 'iii'], dtype='object')"
      ]
     },
     "execution_count": 29,
     "metadata": {},
     "output_type": "execute_result"
    }
   ],
   "source": [
    "#Accessing the columns and index\n",
    "df2.index"
   ]
  },
  {
   "cell_type": "code",
   "execution_count": 54,
   "id": "4aca8d1c-b276-4c74-ad24-d4812fe3e952",
   "metadata": {},
   "outputs": [],
   "source": [
    "#Adding & Dropping columns"
   ]
  },
  {
   "cell_type": "markdown",
   "id": "26f8a680-cf31-4124-96dc-93c15277fcd5",
   "metadata": {},
   "source": [
    "Now, we'd look at the use of Pandas in an actual dataset. There are three steps to follow in Data Manipulation with Pandas. They are:<br>\n",
    "- Data Preparation\n",
    "- Data Transformation.\n",
    "- Data Aggregation."
   ]
  },
  {
   "cell_type": "markdown",
   "id": "d0dcb3aa-6fa1-4119-ab72-23cc86a33f70",
   "metadata": {},
   "source": [
    "# Data Preparation<br>\n",
    "Before the manipulaton of data, it is neccesary to prepare the data and assemble them in the form of pandas data structures.The following operations can be performed by preparing data; loading, merging, concatenating and removing / deleting.< br>\n",
    "In this case, we'll be dealing with a dataset titled \"PremierLeagueTable\" that contains data on different clubs and the points they got in the league among other statistics."
   ]
  },
  {
   "cell_type": "code",
   "execution_count": 31,
   "id": "082cd8a2-852a-439b-8b76-065b29519995",
   "metadata": {},
   "outputs": [],
   "source": [
    "#Read the dataset into a dataframe\n",
    "df = pd.read_csv(\"Desktop/MY DATA DIARY/DATA SETS/PremierLeagueTable.csv\")"
   ]
  },
  {
   "cell_type": "code",
   "execution_count": 34,
   "id": "828d88ae-1cf1-45a6-841d-3c7457d63613",
   "metadata": {},
   "outputs": [
    {
     "data": {
      "text/html": [
       "<div>\n",
       "<style scoped>\n",
       "    .dataframe tbody tr th:only-of-type {\n",
       "        vertical-align: middle;\n",
       "    }\n",
       "\n",
       "    .dataframe tbody tr th {\n",
       "        vertical-align: top;\n",
       "    }\n",
       "\n",
       "    .dataframe thead th {\n",
       "        text-align: right;\n",
       "    }\n",
       "</style>\n",
       "<table border=\"1\" class=\"dataframe\">\n",
       "  <thead>\n",
       "    <tr style=\"text-align: right;\">\n",
       "      <th></th>\n",
       "      <th>Squad</th>\n",
       "      <th>Matches Played</th>\n",
       "      <th>Win</th>\n",
       "      <th>Draw</th>\n",
       "      <th>Loss</th>\n",
       "      <th>Goal Difference</th>\n",
       "      <th>Points</th>\n",
       "    </tr>\n",
       "  </thead>\n",
       "  <tbody>\n",
       "    <tr>\n",
       "      <th>0</th>\n",
       "      <td>Manchester City</td>\n",
       "      <td>38</td>\n",
       "      <td>29</td>\n",
       "      <td>6</td>\n",
       "      <td>3</td>\n",
       "      <td>73</td>\n",
       "      <td>93</td>\n",
       "    </tr>\n",
       "    <tr>\n",
       "      <th>1</th>\n",
       "      <td>Liverpool</td>\n",
       "      <td>38</td>\n",
       "      <td>28</td>\n",
       "      <td>8</td>\n",
       "      <td>2</td>\n",
       "      <td>68</td>\n",
       "      <td>92</td>\n",
       "    </tr>\n",
       "    <tr>\n",
       "      <th>2</th>\n",
       "      <td>Chelsea</td>\n",
       "      <td>38</td>\n",
       "      <td>21</td>\n",
       "      <td>11</td>\n",
       "      <td>6</td>\n",
       "      <td>43</td>\n",
       "      <td>74</td>\n",
       "    </tr>\n",
       "    <tr>\n",
       "      <th>3</th>\n",
       "      <td>Tottenham</td>\n",
       "      <td>38</td>\n",
       "      <td>22</td>\n",
       "      <td>5</td>\n",
       "      <td>11</td>\n",
       "      <td>29</td>\n",
       "      <td>71</td>\n",
       "    </tr>\n",
       "    <tr>\n",
       "      <th>4</th>\n",
       "      <td>Arsenal</td>\n",
       "      <td>38</td>\n",
       "      <td>22</td>\n",
       "      <td>3</td>\n",
       "      <td>13</td>\n",
       "      <td>13</td>\n",
       "      <td>69</td>\n",
       "    </tr>\n",
       "  </tbody>\n",
       "</table>\n",
       "</div>"
      ],
      "text/plain": [
       "             Squad  Matches Played  Win  Draw  Loss  Goal Difference  Points\n",
       "0  Manchester City              38   29     6     3               73      93\n",
       "1        Liverpool              38   28     8     2               68      92\n",
       "2          Chelsea              38   21    11     6               43      74\n",
       "3        Tottenham              38   22     5    11               29      71\n",
       "4          Arsenal              38   22     3    13               13      69"
      ]
     },
     "execution_count": 34,
     "metadata": {},
     "output_type": "execute_result"
    }
   ],
   "source": [
    "#Data Cleaning: Removing, Cross Checking\n",
    "df.head()"
   ]
  },
  {
   "cell_type": "code",
   "execution_count": 35,
   "id": "5b09851a-3300-4b3c-a6aa-1292ebd56566",
   "metadata": {},
   "outputs": [
    {
     "data": {
      "text/plain": [
       "(20, 7)"
      ]
     },
     "execution_count": 35,
     "metadata": {},
     "output_type": "execute_result"
    }
   ],
   "source": [
    "df.shape"
   ]
  },
  {
   "cell_type": "code",
   "execution_count": 33,
   "id": "b03dea42-e440-4ed9-91cb-a9240cfbf3a1",
   "metadata": {},
   "outputs": [
    {
     "name": "stdout",
     "output_type": "stream",
     "text": [
      "<class 'pandas.core.frame.DataFrame'>\n",
      "RangeIndex: 20 entries, 0 to 19\n",
      "Data columns (total 7 columns):\n",
      " #   Column           Non-Null Count  Dtype \n",
      "---  ------           --------------  ----- \n",
      " 0   Squad            20 non-null     object\n",
      " 1   Matches Played   20 non-null     int64 \n",
      " 2   Win              20 non-null     int64 \n",
      " 3   Draw             20 non-null     int64 \n",
      " 4   Loss             20 non-null     int64 \n",
      " 5   Goal Difference  20 non-null     int64 \n",
      " 6   Points           20 non-null     int64 \n",
      "dtypes: int64(6), object(1)\n",
      "memory usage: 1.2+ KB\n"
     ]
    }
   ],
   "source": [
    "#Data Cleaning: Removing, Cross Checking\n",
    "df.info()"
   ]
  },
  {
   "cell_type": "markdown",
   "id": "14712128-0539-4473-99c6-60a2d481f394",
   "metadata": {},
   "source": [
    " # Data Transformation<br>\n",
    "So far we have looked at how to prepare data for analysis. Now we'll be moving to the second stage of data manipulation which is data transformation.\n",
    "After arranging the form of data, it is important to transform their values.<br>\n",
    "This process include removing duplicates, invalid or empty values and changing data types."
   ]
  },
  {
   "cell_type": "code",
   "execution_count": 37,
   "id": "94ff3418-3f98-469a-8816-9cad67fb7643",
   "metadata": {},
   "outputs": [
    {
     "data": {
      "text/plain": [
       "0"
      ]
     },
     "execution_count": 37,
     "metadata": {},
     "output_type": "execute_result"
    }
   ],
   "source": [
    "#Checking: the data types, for null values, for duplicates\n",
    "#Sumof duplicates\n",
    "df.duplicated().sum()"
   ]
  },
  {
   "cell_type": "code",
   "execution_count": 38,
   "id": "161c09e7-d718-4315-9733-2e6e507ec2e1",
   "metadata": {},
   "outputs": [
    {
     "data": {
      "text/plain": [
       "Squad              0\n",
       "Matches Played     0\n",
       "Win                0\n",
       "Draw               0\n",
       "Loss               0\n",
       "Goal Difference    0\n",
       "Points             0\n",
       "dtype: int64"
      ]
     },
     "execution_count": 38,
     "metadata": {},
     "output_type": "execute_result"
    }
   ],
   "source": [
    "#Sum of null values\n",
    "df.isnull().sum()"
   ]
  },
  {
   "cell_type": "markdown",
   "id": "9f4a5af2-395c-40eb-b259-2aa0f4ca5e7f",
   "metadata": {},
   "source": [
    "Looking at the columns, the column \"Matches Played\" is the same for all the teams, it will be less useful for analysis so let's drop it."
   ]
  },
  {
   "cell_type": "code",
   "execution_count": 41,
   "id": "7d18e988-c4d8-42c6-827e-6fbc01211a4d",
   "metadata": {},
   "outputs": [],
   "source": [
    "#Dropping columns\n",
    "df= df.drop([\"Matches Played\"], axis = \"columns\")"
   ]
  },
  {
   "cell_type": "code",
   "execution_count": 42,
   "id": "ba4357cf-77bf-43c2-9672-80723b56ecab",
   "metadata": {},
   "outputs": [
    {
     "data": {
      "text/html": [
       "<div>\n",
       "<style scoped>\n",
       "    .dataframe tbody tr th:only-of-type {\n",
       "        vertical-align: middle;\n",
       "    }\n",
       "\n",
       "    .dataframe tbody tr th {\n",
       "        vertical-align: top;\n",
       "    }\n",
       "\n",
       "    .dataframe thead th {\n",
       "        text-align: right;\n",
       "    }\n",
       "</style>\n",
       "<table border=\"1\" class=\"dataframe\">\n",
       "  <thead>\n",
       "    <tr style=\"text-align: right;\">\n",
       "      <th></th>\n",
       "      <th>Squad</th>\n",
       "      <th>Win</th>\n",
       "      <th>Draw</th>\n",
       "      <th>Loss</th>\n",
       "      <th>Goal Difference</th>\n",
       "      <th>Points</th>\n",
       "    </tr>\n",
       "  </thead>\n",
       "  <tbody>\n",
       "    <tr>\n",
       "      <th>0</th>\n",
       "      <td>Manchester City</td>\n",
       "      <td>29</td>\n",
       "      <td>6</td>\n",
       "      <td>3</td>\n",
       "      <td>73</td>\n",
       "      <td>93</td>\n",
       "    </tr>\n",
       "    <tr>\n",
       "      <th>1</th>\n",
       "      <td>Liverpool</td>\n",
       "      <td>28</td>\n",
       "      <td>8</td>\n",
       "      <td>2</td>\n",
       "      <td>68</td>\n",
       "      <td>92</td>\n",
       "    </tr>\n",
       "    <tr>\n",
       "      <th>2</th>\n",
       "      <td>Chelsea</td>\n",
       "      <td>21</td>\n",
       "      <td>11</td>\n",
       "      <td>6</td>\n",
       "      <td>43</td>\n",
       "      <td>74</td>\n",
       "    </tr>\n",
       "    <tr>\n",
       "      <th>3</th>\n",
       "      <td>Tottenham</td>\n",
       "      <td>22</td>\n",
       "      <td>5</td>\n",
       "      <td>11</td>\n",
       "      <td>29</td>\n",
       "      <td>71</td>\n",
       "    </tr>\n",
       "    <tr>\n",
       "      <th>4</th>\n",
       "      <td>Arsenal</td>\n",
       "      <td>22</td>\n",
       "      <td>3</td>\n",
       "      <td>13</td>\n",
       "      <td>13</td>\n",
       "      <td>69</td>\n",
       "    </tr>\n",
       "  </tbody>\n",
       "</table>\n",
       "</div>"
      ],
      "text/plain": [
       "             Squad  Win  Draw  Loss  Goal Difference  Points\n",
       "0  Manchester City   29     6     3               73      93\n",
       "1        Liverpool   28     8     2               68      92\n",
       "2          Chelsea   21    11     6               43      74\n",
       "3        Tottenham   22     5    11               29      71\n",
       "4          Arsenal   22     3    13               13      69"
      ]
     },
     "execution_count": 42,
     "metadata": {},
     "output_type": "execute_result"
    }
   ],
   "source": [
    "#Cross Checking\n",
    "df.head()"
   ]
  },
  {
   "cell_type": "markdown",
   "id": "930a46eb-9a9b-4a46-8ae0-1972d9468a2a",
   "metadata": {},
   "source": [
    "# Data Aggregation<br>\n",
    "The last stage of data manipulation is data aggregation. The categorization of a set of data carried out for grouping is often a critical stage in the process of data analysis."
   ]
  },
  {
   "cell_type": "markdown",
   "id": "9c2c11ba-5384-4c24-805d-58c8e38d2678",
   "metadata": {},
   "source": [
    "Let's check the average points and the highest goal difference gotten."
   ]
  },
  {
   "cell_type": "code",
   "execution_count": 44,
   "id": "76ab7c04-981d-4be0-ac76-3f75464b2f6c",
   "metadata": {},
   "outputs": [
    {
     "data": {
      "text/plain": [
       "52.6"
      ]
     },
     "execution_count": 44,
     "metadata": {},
     "output_type": "execute_result"
    }
   ],
   "source": [
    "#Using min, sum, max, mean functions\n",
    "#Average points gotten\n",
    "df[\"Points\"].mean()"
   ]
  },
  {
   "cell_type": "code",
   "execution_count": 45,
   "id": "dc2576ad-1205-4498-9fec-bc96494dd300",
   "metadata": {},
   "outputs": [
    {
     "data": {
      "text/plain": [
       "73"
      ]
     },
     "execution_count": 45,
     "metadata": {},
     "output_type": "execute_result"
    }
   ],
   "source": [
    "# Highest goal difference\n",
    "df[\"Goal Difference\"].max()"
   ]
  },
  {
   "cell_type": "markdown",
   "id": "2de8840b-02df-42a2-8625-afeab2eca837",
   "metadata": {},
   "source": [
    "## **MATPLOTLIB**<br>"
   ]
  },
  {
   "cell_type": "markdown",
   "id": "19540a94-1b4a-4d2f-9395-c09540854a5e",
   "metadata": {},
   "source": [
    "MatPlotLib is a Python Library specialized in the development of two-dimensional charts. It is used in the graphical representation of data."
   ]
  },
  {
   "cell_type": "markdown",
   "id": "81e5a394-12e5-41a5-8b83-5c9e3f730bf3",
   "metadata": {},
   "source": [
    "# Installing MatPlotLib<br>\n",
    "- If you already have Anaconda, you don't have to worry.\n",
    "- If you'll be installing on your system, go to your command prompt, then type \"pip install matplotlib\"."
   ]
  },
  {
   "cell_type": "markdown",
   "id": "1a4d42e6-c6df-4069-8208-99b29f1b1d56",
   "metadata": {},
   "source": [
    "# Importing Pandas<br>\n",
    "The Pandas library is imported using the \"import\" statement."
   ]
  },
  {
   "cell_type": "code",
   "execution_count": 46,
   "id": "3a839591-cb83-47fe-9653-c9a2368687a5",
   "metadata": {},
   "outputs": [],
   "source": [
    "import matplotlib.pyplot as plt"
   ]
  },
  {
   "cell_type": "code",
   "execution_count": 47,
   "id": "5387ca66-7f0a-4139-9c23-8d74f6b89458",
   "metadata": {},
   "outputs": [
    {
     "data": {
      "image/png": "[encoded data removed]",
      "text/plain": [
       "<Figure size 432x288 with 1 Axes>"
      ]
     },
     "metadata": {
      "needs_background": "light"
     },
     "output_type": "display_data"
    }
   ],
   "source": [
    "#Creating simple charts\n",
    "x = [1, 4, 6, 8]\n",
    "y = [2, 7, 4, 9]\n",
    "plt.plot(x, y)\n",
    "plt.show()"
   ]
  },
  {
   "cell_type": "code",
   "execution_count": 48,
   "id": "45e66ac3-221a-4559-a386-a279e33719d8",
   "metadata": {},
   "outputs": [
    {
     "data": {
      "image/png": "[encoded data removed]",
      "text/plain": [
       "<Figure size 432x288 with 1 Axes>"
      ]
     },
     "metadata": {
      "needs_background": "light"
     },
     "output_type": "display_data"
    }
   ],
   "source": [
    "#Creating simple charts: Adding title\n",
    "x = [\"mark 1\", \"mark 2\", \"mark 3\", \"mark 4\"]\n",
    "y = [2, 7, 4, 9]\n",
    "plt.plot(x, y)\n",
    "plt.title(\"Four Marks\")\n",
    "plt.show()"
   ]
  },
  {
   "cell_type": "code",
   "execution_count": 49,
   "id": "1953cd82-b718-46f6-87bb-32033fb4cda3",
   "metadata": {},
   "outputs": [
    {
     "data": {
      "image/png": "[encoded data removed]",
      "text/plain": [
       "<Figure size 432x288 with 1 Axes>"
      ]
     },
     "metadata": {
      "needs_background": "light"
     },
     "output_type": "display_data"
    }
   ],
   "source": [
    "#Creating simple charts: Adding Labels\n",
    "x = [1, 4, 6, 8]\n",
    "y = [2, 7, 4, 9]\n",
    "plt.scatter(x, y)\n",
    "plt.xlabel(\"Random X values\")\n",
    "plt.ylabel(\"Random Y values\")\n",
    "plt.title(\"Random Values\")\n",
    "plt.show()"
   ]
  },
  {
   "cell_type": "code",
   "execution_count": 56,
   "id": "5ffe81a4-ed6f-49cb-b737-1d558d12e70d",
   "metadata": {},
   "outputs": [
    {
     "data": {
      "image/png": "[encoded data removed]",
      "text/plain": [
       "<Figure size 432x288 with 1 Axes>"
      ]
     },
     "metadata": {
      "needs_background": "light"
     },
     "output_type": "display_data"
    }
   ],
   "source": [
    "#Using the dataset : Check for the team with the highest points\n",
    "x = df[\"Squad\"]\n",
    "y = df[\"Points\"]\n",
    "plt.xlabel(\"Squad\")\n",
    "plt.ylabel(\"Points\")\n",
    "plt.title(\"Team  with the Highest Points\")\n",
    "plt.xticks(rotation = 90)\n",
    "plt.bar(x, y)\n",
    "plt.show()"
   ]
  },
  {
   "cell_type": "markdown",
   "id": "ab8e186e-4ad8-49c8-88b6-ac646fcba84b",
   "metadata": {},
   "source": [
    "This means Manchester City got the highest points and deservedly won the league! <br>\n",
    "As plt.bar() is to bar chart, so is plt.pie() to pie chart. There are other types of visualizations in MatPlotLib that you can explore."
   ]
  },
  {
   "cell_type": "markdown",
   "id": "0561b29d-8dd6-43d4-9145-b1882b1b17a7",
   "metadata": {},
   "source": [
    "This is the simplest project you can get as a Data Analyst. In real life ,you'll get really messy data filled with wrong and missing values. It's up to you to clean them with the knowledge you have. If you want to study further, you can search for the documentation of these languages to learn. You can also check out these resources.<br>\n",
    "# Resources for Further Study<br>\n",
    "- DataCamp.\n",
    "- Coursera.\n",
    "- W3 schools.<br>\n",
    "**REACH OUT TO ME ON MY SOCIALS** <br>\n",
    "Phone Number - 09067740138 <br>\n",
    "Twitter - @AdetanChelsea<br>\n",
    "Instagram - @i_am_chelsea20<br>\n",
    "LinkedIn - Chelsea Adetan<br>\n",
    "Medium - Chelsea Adetan<br>"
   ]
  },
  {
   "cell_type": "markdown",
   "id": "3fb600fe-8669-42ab-8f64-6ff9b1a94142",
   "metadata": {},
   "source": [
    "Thank you for listening/reading."
   ]
  },
  {
   "cell_type": "code",
   "execution_count": null,
   "id": "38932a62-b085-40fb-8e47-a53181708330",
   "metadata": {},
   "outputs": [],
   "source": []
  }
 ],
 "metadata": {
  "kernelspec": {
   "display_name": "Python 3",
   "language": "python",
   "name": "python3"
  },
  "language_info": {
   "codemirror_mode": {
    "name": "ipython",
    "version": 3
   },
   "file_extension": ".py",
   "mimetype": "text/x-python",
   "name": "python",
   "nbconvert_exporter": "python",
   "pygments_lexer": "ipython3",
   "version": "3.8.8"
  }
 },
 "nbformat": 4,
 "nbformat_minor": 5
}
